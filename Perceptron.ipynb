{
  "cells": [
    {
      "metadata": {
        "trusted": true,
        "_uuid": "b06356b5ecafab6978e6be3dea119ec6be0bae03"
      },
      "cell_type": "code",
      "source": "import numpy as np\nimport pandas as pd\nimport matplotlib.pyplot as plt\nfrom sklearn.preprocessing import LabelEncoder,MinMaxScaler, StandardScaler\nfrom sklearn.model_selection import train_test_split, ParameterGrid\nfrom sklearn.metrics import accuracy_score, confusion_matrix, mean_squared_error, log_loss\nimport operator\nimport json\nfrom IPython import display\nimport os\nimport warnings\n\nnp.random.seed(0)\nwarnings.filterwarnings(\"ignore\")\nTHRESHOLD = 4",
      "execution_count": null,
      "outputs": []
    },
    {
      "metadata": {
        "_uuid": "ea52623444bd237e4fd4edee8177e4e9511e7ce8"
      },
      "cell_type": "markdown",
      "source": "Task: To predict whether the user likes the mobile phone or not. <br>\nAssumption: If the average rating of mobile >= threshold, then the user likes it, otherwise not."
    },
    {
      "metadata": {
        "_uuid": "320d88955fc2b1d9628c9dd56e494eab10d61dab"
      },
      "cell_type": "markdown",
      "source": "<b>Missing values:</b><br>\n'Also Known As'(459),'Applications'(421),'Audio Features'(437),'Bezel-less display'(266),'Browser'(449),'Build Material'(338),'Co-Processor'(451),'Display Colour'(457),'Mobile High-Definition Link(MHL)'(472),'Music'(447)\n'Email','Fingerprint Sensor Position'(174),'Games'(446),'HDMI'(454),'Heart Rate Monitor'(467),'IRIS Scanner'(467),\n'Optical Image Stabilisation'(219),'Other Facilities'(444),'Phone Book'(444),'Physical Aperture'(87),'Quick Charging'(122),'Ring Tone'(444),'Ruggedness'(430),SAR Value(315),'SIM 3'(472),'SMS'(470)', 'Screen Protection'(229),'Screen to Body Ratio (claimed by the brand)'(428),'Sensor'(242),'Software Based Aperture'(473),\n'Special Features'(459),'Standby time'(334),'Stylus'(473),'TalkTime'(259), 'USB Type-C'(374),'Video Player'(456),\n'Video Recording Features'(458),'Waterproof'(398),'Wireless Charging','USB OTG Support'(159), 'Video ,'Recording'(113),'Java'(471),'Browser'(448)\n\n<b>Very low variance:</b><br>\n'Architecture'(most entries are 64-bit),'Audio Jack','GPS','Loudspeaker','Network','Network Support','Other Sensors'(28),'SIM Size', 'VoLTE'\n\n\n<b>Multivalued:</b><br>\n'Colours','Custom UI','Model'(1),'Other Sensors','Launch Date'\n\n<b>Not important:</b><br>\n'Bluetooth', 'Settings'(75),'Wi-Fi','Wi-Fi Features'\n\n<b>Doubtful:</b><br>\n'Aspect Ratio','Autofocus','Brand','Camera Features','Fingerprint Sensor'(very few entries are missing),\n'Fingerprint Sensor Position', 'Graphics'(multivalued),'Image resolution'(multivalued),'SIM Size','Sim Slot(s)', 'User Available Storage', 'SIM 1', 'SIM 2','Shooting Modes', 'Touch Screen'(24), 'USB Connectivity'\n    \n<b>To check:</b><br>\n'Display Type','Expandable Memory','FM Radio'\n\n<b>High Correlation with other features</b><br>\n'SIM Slot(s)' high correlation with SIM1\n'Weight' has high high correlation with capacity , screen-to-body ratio\n'Height' - screen size is also there\n    \n<b>Given a mobile, we can't directly get these features</b><br>\n'Rating Count', 'Review Count'\n\n<b>Keeping:</b><br>\n'Capacity','Flash'(17),'Height'(22),'Internal Memory'(20, require cleaning),'Operating System'(25, require cleaning), 'Pixel Density'(1, clean it),'Processor'(22, clean it), 'RAM'(17, clean), 'Rating','Resolution'(cleaning), 'Screen Resolution','Screen Size', 'Thickness'(22), 'Type','User Replaceable','Weight'(cleaning),'Sim Size'(), 'Other Sensors'(28), 'Screen to Body Ratio (calculated)','Width',\n"
    },
    {
      "metadata": {
        "trusted": true,
        "_uuid": "08a29e65c10eee002d4bc8b4fc21ff9eec3c8442"
      },
      "cell_type": "code",
      "source": "# read data from file\ntrain = pd.read_csv(\"../input/train.csv\") \ntest = pd.read_csv(\"../input/test.csv\")\n\n# check the number of features and data points in train\nprint(\"Number of data points in train: %d\" % train.shape[0])\nprint(\"Number of features in train: %d\" % train.shape[1])\n\n# check the number of features and data points in test\nprint(\"Number of data points in test: %d\" % test.shape[0])\nprint(\"Number of features in test: %d\" % test.shape[1])",
      "execution_count": null,
      "outputs": []
    },
    {
      "metadata": {
        "trusted": true,
        "_uuid": "da3c2cc467732bfda3ecf541d3ff405b5118fa8f"
      },
      "cell_type": "code",
      "source": "def data_clean(data):\n    \n    # Let's first remove all missing value features\n    columns_to_remove = ['Also Known As','Applications','Audio Features','Bezel-less display'\n                         'Browser','Build Material','Co-Processor','Browser'\n                         'Display Colour','Mobile High-Definition Link(MHL)',\n                         'Music', 'Email','Fingerprint Sensor Position',\n                         'Games','HDMI','Heart Rate Monitor','IRIS Scanner', \n                         'Optical Image Stabilisation','Other Facilities',\n                         'Phone Book','Physical Aperture','Quick Charging',\n                         'Ring Tone','Ruggedness','SAR Value','SIM 3','SMS',\n                         'Screen Protection','Screen to Body Ratio (claimed by the brand)',\n                         'Sensor','Software Based Aperture', 'Special Features',\n                         'Standby time','Stylus','TalkTime', 'USB Type-C',\n                         'Video Player', 'Video Recording Features','Waterproof',\n                         'Wireless Charging','USB OTG Support', 'Video Recording','Java']\n\n    columns_to_retain = list(set(data.columns)-set(columns_to_remove))\n    data = data[columns_to_retain]\n\n    #Features having very low variance \n    columns_to_remove = ['Architecture','Audio Jack','GPS','Loudspeaker','Network','Network Support','VoLTE']\n    columns_to_retain = list(set(data.columns)-set(columns_to_remove))\n    data = data[columns_to_retain]\n\n    # Multivalued:\n    columns_to_remove = ['Architecture','Launch Date','Audio Jack','GPS','Loudspeaker','Network','Network Support','VoLTE', 'Custom UI']\n    columns_to_retain = list(set(data.columns)-set(columns_to_remove))\n    data = data[columns_to_retain]\n\n    # Not much important\n    columns_to_remove = ['Bluetooth', 'Settings','Wi-Fi','Wi-Fi Features']\n    columns_to_retain = list(set(data.columns)-set(columns_to_remove))\n    data = data[columns_to_retain]\n    \n    return data",
      "execution_count": null,
      "outputs": []
    },
    {
      "metadata": {
        "_uuid": "c77aefc28efe04940990299879eace2192477779"
      },
      "cell_type": "markdown",
      "source": "# Removing features"
    },
    {
      "metadata": {
        "trusted": true,
        "_uuid": "66b2ef7688e0911ed0cdbd288a805e9e08689160"
      },
      "cell_type": "code",
      "source": "train = data_clean(train)\ntest = data_clean(test)",
      "execution_count": null,
      "outputs": []
    },
    {
      "metadata": {
        "_uuid": "e5f755100d36185566f29d248dd8c3523157d5c7"
      },
      "cell_type": "markdown",
      "source": "removing all those data points in which more than 15 features are missing "
    },
    {
      "metadata": {
        "trusted": true,
        "_uuid": "42cce5bbc8bc316161f8647789cae3aed5bbf136"
      },
      "cell_type": "code",
      "source": "train = train[(train.isnull().sum(axis=1) <= 15)]\n# You shouldn't remove data points from test set\n#test = test[(test.isnull().sum(axis=1) <= 15)]",
      "execution_count": null,
      "outputs": []
    },
    {
      "metadata": {
        "trusted": true,
        "_uuid": "7a92ee49aa4c4cd0e4a6c499c8fb93a080615874"
      },
      "cell_type": "code",
      "source": "# check the number of features and data points in train\nprint(\"Number of data points in train: %d\" % train.shape[0])\nprint(\"Number of features in train: %d\" % train.shape[1])\n\n# check the number of features and data points in test\nprint(\"Number of data points in test: %d\" % test.shape[0])\nprint(\"Number of features in test: %d\" % test.shape[1])",
      "execution_count": null,
      "outputs": []
    },
    {
      "metadata": {
        "_uuid": "d26030ad0dc26a58c57dacb5fa3d4f19df41f715"
      },
      "cell_type": "markdown",
      "source": "# Filling Missing values"
    },
    {
      "metadata": {
        "trusted": true,
        "_uuid": "93eaa04edfc85dfe8eb448ed5e7c0318000546f4"
      },
      "cell_type": "code",
      "source": "def for_integer(test):\n    try:\n        test = test.strip()\n        return int(test.split(' ')[0])\n    except IOError:\n           pass\n    except ValueError:\n        pass\n    except:\n        pass\n\ndef for_string(test):\n    try:\n        test = test.strip()\n        return (test.split(' ')[0])\n    except IOError:\n        pass\n    except ValueError:\n        pass\n    except:\n        pass\n\ndef for_float(test):\n    try:\n        test = test.strip()\n        return float(test.split(' ')[0])\n    except IOError:\n        pass\n    except ValueError:\n        pass\n    except:\n        pass\ndef find_freq(test):\n    try:\n        test = test.strip()\n        test = test.split(' ')\n        if test[2][0] == '(':\n            return float(test[2][1:])\n        return float(test[2])\n    except IOError:\n        pass\n    except ValueError:\n        pass\n    except:\n        pass\n\n    \ndef for_Internal_Memory(test):\n    try:\n        test = test.strip()\n        test = test.split(' ')\n        if test[1] == 'GB':\n            return int(test[0])\n        if test[1] == 'MB':\n#             print(\"here\")\n            return (int(test[0]) * 0.001)\n    except IOError:\n           pass\n    except ValueError:\n        pass\n    except:\n        pass\n    \ndef find_freq(test):\n    try:\n        test = test.strip()\n        test = test.split(' ')\n        if test[2][0] == '(':\n            return float(test[2][1:])\n        return float(test[2])\n    except IOError:\n        pass\n    except ValueError:\n        pass\n    except:\n        pass\n",
      "execution_count": null,
      "outputs": []
    },
    {
      "metadata": {
        "trusted": true,
        "_uuid": "ca4e8e6a00509740d64935ac70062fabdc9952df"
      },
      "cell_type": "code",
      "source": "def data_clean_2(x):\n    data = x.copy()\n    \n    data['Capacity'] = data['Capacity'].apply(for_integer)\n\n    data['Height'] = data['Height'].apply(for_float)\n    data['Height'] = data['Height'].fillna(data['Height'].mean())\n\n    data['Internal Memory'] = data['Internal Memory'].apply(for_Internal_Memory)\n\n    data['Pixel Density'] = data['Pixel Density'].apply(for_integer)\n\n    data['Internal Memory'] = data['Internal Memory'].fillna(data['Internal Memory'].median())\n    data['Internal Memory'] = data['Internal Memory'].astype(int)\n\n    data['RAM'] = data['RAM'].apply(for_integer)\n    data['RAM'] = data['RAM'].fillna(data['RAM'].median())\n    data['RAM'] = data['RAM'].astype(int)\n\n    data['Resolution'] = data['Resolution'].apply(for_integer)\n    data['Resolution'] = data['Resolution'].fillna(data['Resolution'].median())\n    data['Resolution'] = data['Resolution'].astype(int)\n\n    data['Screen Size'] = data['Screen Size'].apply(for_float)\n\n    data['Thickness'] = data['Thickness'].apply(for_float)\n    data['Thickness'] = data['Thickness'].fillna(data['Thickness'].mean())\n    data['Thickness'] = data['Thickness'].round(2)\n\n    data['Type'] = data['Type'].fillna('Li-Polymer')\n\n    data['Screen to Body Ratio (calculated)'] = data['Screen to Body Ratio (calculated)'].apply(for_float)\n    data['Screen to Body Ratio (calculated)'] = data['Screen to Body Ratio (calculated)'].fillna(data['Screen to Body Ratio (calculated)'].mean())\n    data['Screen to Body Ratio (calculated)'] = data['Screen to Body Ratio (calculated)'].round(2)\n\n    data['Width'] = data['Width'].apply(for_float)\n    data['Width'] = data['Width'].fillna(data['Width'].mean())\n    data['Width'] = data['Width'].round(2)\n\n    data['Flash'][data['Flash'].isna() == True] = \"Other\"\n\n    data['User Replaceable'][data['User Replaceable'].isna() == True] = \"Other\"\n\n    data['Num_cores'] = data['Processor'].apply(for_string)\n    data['Num_cores'][data['Num_cores'].isna() == True] = \"Other\"\n\n\n    data['Processor_frequency'] = data['Processor'].apply(find_freq)\n    #because there is one entry with 208MHz values, to convert it to GHz\n    data['Processor_frequency'][data['Processor_frequency'] > 200] = 0.208\n    data['Processor_frequency'] = data['Processor_frequency'].fillna(data['Processor_frequency'].mean())\n    data['Processor_frequency'] = data['Processor_frequency'].round(2)\n\n    data['Camera Features'][data['Camera Features'].isna() == True] = \"Other\"\n\n    #simplifyig Operating System to os_name for simplicity\n    data['os_name'] = data['Operating System'].apply(for_string)\n    data['os_name'][data['os_name'].isna() == True] = \"Other\"\n\n    data['Sim1'] = data['SIM 1'].apply(for_string)\n\n    data['SIM Size'][data['SIM Size'].isna() == True] = \"Other\"\n\n    data['Image Resolution'][data['Image Resolution'].isna() == True] = \"Other\"\n\n    data['Fingerprint Sensor'][data['Fingerprint Sensor'].isna() == True] = \"Other\"\n\n    data['Expandable Memory'][data['Expandable Memory'].isna() == True] = \"No\"\n\n    data['Weight'] = data['Weight'].apply(for_integer)\n    data['Weight'] = data['Weight'].fillna(data['Weight'].mean())\n    data['Weight'] = data['Weight'].astype(int)\n\n    data['SIM 2'] = data['SIM 2'].apply(for_string)\n    data['SIM 2'][data['SIM 2'].isna() == True] = \"Other\"\n    \n    return data",
      "execution_count": null,
      "outputs": []
    },
    {
      "metadata": {
        "trusted": true,
        "_uuid": "fe8265beedeb6cd8fad848b72ee09dabe4e24a21"
      },
      "cell_type": "code",
      "source": "train = data_clean_2(train)\ntest = data_clean_2(test)\n\n# check the number of features and data points in train\nprint(\"Number of data points in train: %d\" % train.shape[0])\nprint(\"Number of features in train: %d\" % train.shape[1])\n\n# check the number of features and data points in test\nprint(\"Number of data points in test: %d\" % test.shape[0])\nprint(\"Number of features in test: %d\" % test.shape[1])",
      "execution_count": null,
      "outputs": []
    },
    {
      "metadata": {
        "_uuid": "279ec4ba64e28f87b373aa99d1a005179829912e"
      },
      "cell_type": "markdown",
      "source": "Not very important feature"
    },
    {
      "metadata": {
        "trusted": true,
        "_uuid": "2835b28645c2624eb3fd0c0f00d790bddcc995c8"
      },
      "cell_type": "code",
      "source": "def data_clean_3(x):\n    \n    data = x.copy()\n\n    columns_to_remove = ['User Available Storage','SIM Size','Chipset','Processor','Autofocus','Aspect Ratio','Touch Screen',\n                        'Bezel-less display','Operating System','SIM 1','USB Connectivity','Other Sensors','Graphics','FM Radio',\n                        'NFC','Shooting Modes','Browser','Display Colour' ]\n\n    columns_to_retain = list(set(data.columns)-set(columns_to_remove))\n    data = data[columns_to_retain]\n\n\n    columns_to_remove = [ 'Screen Resolution','User Replaceable','Camera Features',\n                        'Thickness', 'Display Type']\n\n    columns_to_retain = list(set(data.columns)-set(columns_to_remove))\n    data = data[columns_to_retain]\n\n\n    columns_to_remove = ['Fingerprint Sensor', 'Flash', 'Rating Count', 'Review Count','Image Resolution','Type','Expandable Memory',\\\n                        'Colours','Width','Model']\n    columns_to_retain = list(set(data.columns)-set(columns_to_remove))\n    data = data[columns_to_retain]\n\n    return data",
      "execution_count": null,
      "outputs": []
    },
    {
      "metadata": {
        "trusted": true,
        "_uuid": "9f459d68e026b55e58c656dc65681144c656c97c"
      },
      "cell_type": "code",
      "source": "train = data_clean_3(train)\ntest = data_clean_3(test)\n\n# check the number of features and data points in train\nprint(\"Number of data points in train: %d\" % train.shape[0])\nprint(\"Number of features in train: %d\" % train.shape[1])\n\n# check the number of features and data points in test\nprint(\"Number of data points in test: %d\" % test.shape[0])\nprint(\"Number of features in test: %d\" % test.shape[1])",
      "execution_count": null,
      "outputs": []
    },
    {
      "metadata": {
        "trusted": true,
        "_uuid": "542ea1d792692746cac8788fadf9fb076cb0cbf9"
      },
      "cell_type": "code",
      "source": "# one hot encoding\n\ntrain_ids = train['PhoneId']\ntest_ids = test['PhoneId']\n\ncols = list(test.columns)\ncols.remove('PhoneId')\ncols.insert(0, 'PhoneId')\n\ncombined = pd.concat([train.drop('Rating', axis=1)[cols], test[cols]])\nprint(combined.shape)\nprint(combined.columns)\n\ncombined = pd.get_dummies(combined)\nprint(combined.shape)\nprint(combined.columns)\n\ntrain_new = combined[combined['PhoneId'].isin(train_ids)]\ntest_new = combined[combined['PhoneId'].isin(test_ids)]",
      "execution_count": null,
      "outputs": []
    },
    {
      "metadata": {
        "trusted": true,
        "_uuid": "a1111fe4cca288fd93f7cecb04895b2849efad08"
      },
      "cell_type": "code",
      "source": "train_new = train_new.merge(train[['PhoneId', 'Rating']], on='PhoneId')",
      "execution_count": null,
      "outputs": []
    },
    {
      "metadata": {
        "trusted": true,
        "_uuid": "67e8d600b6fdb275634b11b8b510ffc6768ad44d"
      },
      "cell_type": "code",
      "source": "# check the number of features and data points in train\nprint(\"Number of data points in train: %d\" % train_new.shape[0])\nprint(\"Number of features in train: %d\" % train_new.shape[1])\n\n# check the number of features and data points in test\nprint(\"Number of data points in test: %d\" % test_new.shape[0])\nprint(\"Number of features in test: %d\" % test_new.shape[1])",
      "execution_count": null,
      "outputs": []
    },
    {
      "metadata": {
        "trusted": true,
        "_uuid": "e727446d4d629d8d570182864d9672596005e1a7"
      },
      "cell_type": "code",
      "source": "train_new.head()",
      "execution_count": null,
      "outputs": []
    },
    {
      "metadata": {
        "trusted": true,
        "_uuid": "351963ddead078d94f9a517379e924f61f9902e9"
      },
      "cell_type": "code",
      "source": "test_new.head()",
      "execution_count": null,
      "outputs": []
    },
    {
      "metadata": {
        "trusted": true,
        "_uuid": "f40fb688051291b8d608f52360629d850b90633a"
      },
      "cell_type": "code",
      "source": "Columns_to_be_scaled=['Height','Resolution','Weight','Capacity','Screen Size','Pixel Density','Screen to Body Ratio (calculated)','RAM','Internal Memory','Processor_frequency']",
      "execution_count": null,
      "outputs": []
    },
    {
      "metadata": {
        "trusted": true,
        "_uuid": "c86526236425134a270bfa2809aa9e81e776e856"
      },
      "cell_type": "code",
      "source": "train_data=train_new[Columns_to_be_scaled]\ntest_data=test_new[Columns_to_be_scaled]",
      "execution_count": null,
      "outputs": []
    },
    {
      "metadata": {
        "trusted": true,
        "_uuid": "9212102b3abb464005f39911b3ec36db3a927d6e"
      },
      "cell_type": "code",
      "source": "scaler = MinMaxScaler()\ntrain_data=scaler.fit_transform(train_data)\ntest_data=scaler.fit_transform(test_data)",
      "execution_count": null,
      "outputs": []
    },
    {
      "metadata": {
        "trusted": true,
        "_uuid": "5f0f131c13e9dfe38e6862de1c3bcce42670e8a8"
      },
      "cell_type": "code",
      "source": "train_new[Columns_to_be_scaled]=pd.DataFrame(train_data,columns=Columns_to_be_scaled)\ntest_new[Columns_to_be_scaled]=pd.DataFrame(test_data,columns=Columns_to_be_scaled)",
      "execution_count": null,
      "outputs": []
    },
    {
      "metadata": {
        "trusted": true,
        "_uuid": "13bf5193dee6e887e5ab7cade6b57c0580ee9961"
      },
      "cell_type": "code",
      "source": "train_new['Rating'] = train_new['Rating'].map(lambda x: 0 if x < 4.0 else 1)",
      "execution_count": null,
      "outputs": []
    },
    {
      "metadata": {
        "trusted": true,
        "_uuid": "ec288eb648b150df0afca2e623bb398d5ef1d607"
      },
      "cell_type": "code",
      "source": "train_0=train_new.loc[train_new['Rating']==0].head(100)",
      "execution_count": null,
      "outputs": []
    },
    {
      "metadata": {
        "trusted": true,
        "_uuid": "33697b99df6b4a5b4c6135db95d2cfa4de63d7f4"
      },
      "cell_type": "code",
      "source": "train_new=train_new.append(train_0, ignore_index=True)",
      "execution_count": null,
      "outputs": []
    },
    {
      "metadata": {
        "trusted": true,
        "scrolled": true,
        "_uuid": "1a33f082659c5e4373d3cea262cde06867db2699"
      },
      "cell_type": "code",
      "source": "train_new.head()",
      "execution_count": null,
      "outputs": []
    },
    {
      "metadata": {
        "trusted": true,
        "_uuid": "a45884f0e465080a39573a30e78f817170c60d40"
      },
      "cell_type": "code",
      "source": "test_new.head()",
      "execution_count": null,
      "outputs": []
    },
    {
      "metadata": {
        "trusted": true,
        "_uuid": "dfd8a42386975267c12355a45d62e698803d8543"
      },
      "cell_type": "code",
      "source": "X_train = train_new.drop(['PhoneId','Rating'], axis=1)\nY_train = train_new['Rating']\nX_test=test_new.drop('PhoneId',axis=1)",
      "execution_count": null,
      "outputs": []
    },
    {
      "metadata": {
        "trusted": true,
        "_uuid": "fdef010b15e329e19de5fd09c6c22c4d968313d2"
      },
      "cell_type": "code",
      "source": "X_train=X_train.values\nY_train=Y_train.values\nX_test=X_test.values",
      "execution_count": null,
      "outputs": []
    },
    {
      "metadata": {
        "trusted": true,
        "_uuid": "ee4b6f34986166f7879d6fa636a85346e4ae0d7b"
      },
      "cell_type": "code",
      "source": "class Perceptron:\n    def __init__ (self):\n        self.w = None\n        self.b = None\n\n    def model(self, x):\n        return 1 if (np.dot(self.w, x) >= self.b) else 0\n\n    def predict(self, X):\n        Y = []\n        for x in X:\n            result = self.model(x)\n            Y.append(result)\n        return np.array(Y)\n\n    def fit(self, X, Y, epochs = 1, lr = 1):\n\n        #self.w = np.ones(X.shape[1])\n        #self.w = np.zeros(X.shape[1])\n        self.w = np.random.randn(X.shape[1])*0.01\n        self.b = 0\n        #self.b =np.random.randn(1)*0.01\n\n        accuracy = {}\n        max_accuracy = 0\n\n        wt_matrix = []\n\n        for i in range(epochs):\n            for x, y in zip(X, Y):\n                y_pred = self.model(x)\n                if y == 1 and y_pred == 0:\n                    self.w = self.w + lr * x\n                    self.b = self.b - lr * 1\n                elif y == 0 and y_pred == 1:\n                    self.w = self.w - lr * x\n                    self.b = self.b + lr * 1\n\n            wt_matrix.append(self.w)    \n\n            accuracy[i] = accuracy_score(self.predict(X), Y)\n            if (accuracy[i] > max_accuracy):\n                max_accuracy = accuracy[i]\n                chkptw = self.w\n                chkptb = self.b\n\n        self.w = chkptw\n        self.b = chkptb\n\n        print(max_accuracy)\n\n        plt.plot(accuracy.values())\n        plt.ylim([0, 1])\n        plt.show()\n\n        return np.array(wt_matrix)",
      "execution_count": null,
      "outputs": []
    },
    {
      "metadata": {
        "trusted": true,
        "_uuid": "2d2695d807d8a7014298008c40369f02b5244f60"
      },
      "cell_type": "code",
      "source": "#from sklearn.linear_model import Perceptron\n#clf = Perceptron(tol=1e-3, random_state=0)\n#clf.fit(X_train, Y_train)",
      "execution_count": null,
      "outputs": []
    },
    {
      "metadata": {
        "trusted": true,
        "_uuid": "e2e08c62c549bd14d8b7a307c4dce677de4bd398"
      },
      "cell_type": "code",
      "source": "#clf.score(X_train, Y_train)",
      "execution_count": null,
      "outputs": []
    },
    {
      "metadata": {
        "trusted": true,
        "_uuid": "8418051d9e7787fec7510993c8153f18b7c70634"
      },
      "cell_type": "code",
      "source": "perceptron = Perceptron()",
      "execution_count": null,
      "outputs": []
    },
    {
      "metadata": {
        "trusted": true,
        "_uuid": "613baee113a3ac45c76dc4b18c357a8ac0f3b9de",
        "scrolled": true
      },
      "cell_type": "code",
      "source": "wt_matrix = perceptron.fit(X_train, Y_train, 50000, 0.05)",
      "execution_count": null,
      "outputs": []
    },
    {
      "metadata": {
        "trusted": true,
        "_uuid": "f90176ca712f8b020d6a19df649867040bac0f48"
      },
      "cell_type": "code",
      "source": "plt.plot(wt_matrix[-1,:])\nplt.show()",
      "execution_count": null,
      "outputs": []
    },
    {
      "metadata": {
        "trusted": true,
        "_uuid": "e433c298b8250e51acf1fa4b18f0d02fea953f0c"
      },
      "cell_type": "code",
      "source": "Y_pred = perceptron.predict(X_test)",
      "execution_count": null,
      "outputs": []
    },
    {
      "metadata": {
        "_uuid": "62f8c31e3b8d1fda5641c849c54a65a255b4d9c2"
      },
      "cell_type": "markdown",
      "source": "## Submission"
    },
    {
      "metadata": {
        "trusted": true,
        "_uuid": "10e62e95eeb487adb17aec79da203a7fb262a477"
      },
      "cell_type": "code",
      "source": "submission = pd.DataFrame({'PhoneId':test_new['PhoneId'], 'Class':Y_pred})\nsubmission = submission[['PhoneId', 'Class']]\nsubmission.head()",
      "execution_count": null,
      "outputs": []
    },
    {
      "metadata": {
        "trusted": true,
        "_uuid": "76c41947645d4cc3e8a8ec2bcd9efc8e9047b9c7"
      },
      "cell_type": "code",
      "source": "submission.to_csv(\"submission.csv\", index=False)",
      "execution_count": null,
      "outputs": []
    },
    {
      "metadata": {
        "trusted": true,
        "_uuid": "6d133d44fc55077264703047ae9990630fdfce70"
      },
      "cell_type": "code",
      "source": "Y_pred",
      "execution_count": null,
      "outputs": []
    },
    {
      "metadata": {
        "trusted": true,
        "_uuid": "3a28840862710a4c344ad6749a74d693228072ac"
      },
      "cell_type": "code",
      "source": "",
      "execution_count": null,
      "outputs": []
    },
    {
      "metadata": {
        "trusted": true,
        "_uuid": "8eae4eaa9ecbfd288903a89bb117fa75ead36e3d"
      },
      "cell_type": "code",
      "source": "",
      "execution_count": null,
      "outputs": []
    }
  ],
  "metadata": {
    "kernelspec": {
      "display_name": "Python 3",
      "language": "python",
      "name": "python3"
    },
    "language_info": {
      "name": "python",
      "version": "3.6.6",
      "mimetype": "text/x-python",
      "codemirror_mode": {
        "name": "ipython",
        "version": 3
      },
      "pygments_lexer": "ipython3",
      "nbconvert_exporter": "python",
      "file_extension": ".py"
    }
  },
  "nbformat": 4,
  "nbformat_minor": 1
}